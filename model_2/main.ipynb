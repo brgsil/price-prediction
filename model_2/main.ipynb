{
  "nbformat": 4,
  "nbformat_minor": 0,
  "metadata": {
    "colab": {
      "name": "main.ipynb",
      "provenance": [],
      "collapsed_sections": [],
      "authorship_tag": "ABX9TyP9lyL/JO6FVBxgTndiiMf8",
      "include_colab_link": true
    },
    "kernelspec": {
      "name": "python3",
      "display_name": "Python 3"
    },
    "language_info": {
      "name": "python"
    }
  },
  "cells": [
    {
      "cell_type": "markdown",
      "metadata": {
        "id": "view-in-github",
        "colab_type": "text"
      },
      "source": [
        "<a href=\"https://colab.research.google.com/github/Bruno-GSilva/price-prediction/blob/main/model_2/main.ipynb\" target=\"_parent\"><img src=\"https://colab.research.google.com/assets/colab-badge.svg\" alt=\"Open In Colab\"/></a>"
      ]
    },
    {
      "cell_type": "markdown",
      "metadata": {
        "id": "EDflnFJwNNz_"
      },
      "source": [
        "# Model 2"
      ]
    },
    {
      "cell_type": "markdown",
      "metadata": {
        "id": "xyZJT2yrNiQ8"
      },
      "source": [
        "### Mount Drive to access data"
      ]
    },
    {
      "cell_type": "code",
      "metadata": {
        "colab": {
          "base_uri": "https://localhost:8080/"
        },
        "id": "sV4-EmidNK9Z",
        "outputId": "d8fbdc9e-2324-40f0-c00f-f3a57e0417da"
      },
      "source": [
        "from google.colab import drive\n",
        "drive.mount('/content/drive')"
      ],
      "execution_count": 380,
      "outputs": [
        {
          "output_type": "stream",
          "name": "stdout",
          "text": [
            "Drive already mounted at /content/drive; to attempt to forcibly remount, call drive.mount(\"/content/drive\", force_remount=True).\n"
          ]
        }
      ]
    },
    {
      "cell_type": "markdown",
      "metadata": {
        "id": "R7vNgf7yXxUa"
      },
      "source": [
        "### Imports"
      ]
    },
    {
      "cell_type": "code",
      "metadata": {
        "id": "pgCFEpoqUHjJ",
        "colab": {
          "base_uri": "https://localhost:8080/"
        },
        "outputId": "0ea235b6-63e1-4a69-9c6d-74fe04a99faf"
      },
      "source": [
        "import pandas as pd\n",
        "import matplotlib.pyplot as plt\n",
        "import numpy as np\n",
        "import torch\n",
        "import torch.nn as nn\n",
        "from torch.functional import F\n",
        "import torch.optim\n",
        "from torch.utils.data import Dataset, DataLoader\n",
        "from sklearn.preprocessing import MinMaxScaler\n",
        "\n",
        "device = 'cpu' #torch.device('cuda' if torch.cuda.is_available() else 'cpu')\n",
        "print(device)"
      ],
      "execution_count": 381,
      "outputs": [
        {
          "output_type": "stream",
          "name": "stdout",
          "text": [
            "cpu\n"
          ]
        }
      ]
    },
    {
      "cell_type": "markdown",
      "metadata": {
        "id": "smxeF74EXziJ"
      },
      "source": [
        "## Data Loader"
      ]
    },
    {
      "cell_type": "code",
      "metadata": {
        "id": "G_U4SZvmXkCS"
      },
      "source": [
        "class PriceDataset(Dataset):\n",
        "\n",
        "  def __init__(self, time_window=30, delta_prev=30, transform=None):\n",
        "\n",
        "    #Read CSV file\n",
        "    df = pd.read_csv(\"/content/drive/MyDrive/data/PETR4.SA.csv\", parse_dates=[0], infer_datetime_format=True)\n",
        "    df_clean = df.dropna().reset_index()\n",
        "\n",
        "    #Add collumn indicating when there is a time skip > 1 day\n",
        "    time_skip = [ 0 if index == 0 else 1 if (row['Date'] - df_clean['Date'][index - 1]).days > 1 else 0 for index, row in df_clean.iterrows() ]\n",
        "    df_clean['Skip dates'] = time_skip\n",
        "\n",
        "    #Filter usefull collumns\n",
        "    df_filter = df_clean.filter([ 'Close'])#  'Open', 'High', 'Low', 'Close'])#, 'Skip dates'])\n",
        "    data = df_filter.values[4000:]\n",
        "\n",
        "    #Scale input\n",
        "    #scaler = MinMaxScaler()\n",
        "    #data = scaler.fit_transform(data)\n",
        "\n",
        "    #Create samples\n",
        "    x_samples = []\n",
        "    y_samples = []\n",
        "    for i in range (time_window, len(data)-time_window):\n",
        "      scaler = MinMaxScaler()\n",
        "      x_data = np.array(data[i-time_window : i])\n",
        "      scaler.fit(x_data)\n",
        "      scaled_x = scaler.transform(x_data)\n",
        "      x_samples.append(scaled_x)\n",
        "      #y_samples.append([1. if data[i+30,3] > data[i, 3] else 0.])\n",
        "      #y_samples.append([1. if data[i+30,0] > data[i, 0] else 0.])\n",
        "      y_sample = data[i+delta_prev]\n",
        "      y_scaled = scaler.transform(np.reshape(y_sample, (-1,1)))\n",
        "      y_samples.append(y_scaled)\n",
        "\n",
        "    \n",
        "    x_samples, y_samples = np.array(x_samples), np.array(y_samples)\n",
        "\n",
        "    #Transform int tensors\n",
        "    self.x_data = torch.from_numpy(x_samples)\n",
        "    self.y_data = torch.from_numpy(y_samples)\n",
        "    self.n_data = y_samples.shape[0]\n",
        "\n",
        "    #Set transform\n",
        "    self.transform = transform\n",
        "\n",
        "  def __getitem__(self, index):\n",
        "    sample = self.x_data[index], self.y_data[index]\n",
        "    if self.transform:\n",
        "            sample = self.transform(sample)\n",
        "    return sample\n",
        "\n",
        "  def __len__(self):\n",
        "    return self.n_data"
      ],
      "execution_count": 382,
      "outputs": []
    },
    {
      "cell_type": "markdown",
      "metadata": {
        "id": "lN9ZM1L9NwlR"
      },
      "source": [
        "## Model"
      ]
    },
    {
      "cell_type": "code",
      "metadata": {
        "id": "WSJe-_RmNwlS"
      },
      "source": [
        "class LSTMPrice1(nn.Module):\n",
        "\n",
        "  def __init__(self, num_classes, input_size, hidden_size, num_layers, seq_length):\n",
        "    super(LSTMPrice1, self).__init__()\n",
        "    self.num_classes = num_classes\n",
        "    self.input_size = input_size\n",
        "    self.hidden_size = hidden_size\n",
        "    self.num_layers = num_layers\n",
        "    self.seq_length = seq_length\n",
        "\n",
        "    self.lstm = nn.LSTM(input_size=input_size, hidden_size=hidden_size, num_layers=num_layers, batch_first=True)\n",
        "    self.fc_1 = nn.Linear(hidden_size, 64)\n",
        "    self.fc_2 = nn.Linear(64, num_classes)\n",
        "\n",
        "  def forward(self, x):\n",
        "    h_0 = torch.zeros(self.num_layers, x.size(0), self.hidden_size) #hidden state\n",
        "    c_0 = torch.zeros(self.num_layers, x.size(0), self.hidden_size) #internal state\n",
        "    # Propagate input through LSTM\n",
        "    output, (hn, cn) = self.lstm(x, (h_0, c_0)) #lstm with input, hidden, and internal state\n",
        "    #out = torch.reshape(output, (output.size(0), -1))\n",
        "    hn = hn.view(-1, self.hidden_size) #reshaping the data for Dense layer next\n",
        "    out = F.relu(hn)\n",
        "    out = F.relu(self.fc_1(out)) #first Dense\n",
        "    out = self.fc_2(out) #Final Output\n",
        "\n",
        "    #Output with sigmoid\n",
        "    #out = torch.sigmoid(out)\n",
        "\n",
        "    return out      \n"
      ],
      "execution_count": 383,
      "outputs": []
    },
    {
      "cell_type": "code",
      "metadata": {
        "id": "vPaHsELyX99i"
      },
      "source": [
        "def train_loop(model, train_loader, num_epochs, criterion, optimizer):\n",
        "  n_total_steps = len(train_loader)\n",
        "  for epoch in range(num_epochs):\n",
        "      for i, (inputs, labels) in enumerate(train_loader):  \n",
        "          if labels.shape[0] == batch_size:\n",
        "            inputs = inputs.float()\n",
        "            labels = labels.view(batch_size, 1).float()\n",
        "            \n",
        "            # Forward pass\n",
        "            outputs = model(inputs).float()\n",
        "            #print(outputs)\n",
        "            loss = criterion(outputs, labels)\n",
        "            \n",
        "            # Backward and optimize\n",
        "            optimizer.zero_grad()\n",
        "            loss.backward()\n",
        "            optimizer.step()\n",
        "            \n",
        "      print (f'Epoch [{epoch+1}/{num_epochs}], Loss: {loss}')\n",
        "                #print(outputs)"
      ],
      "execution_count": 384,
      "outputs": []
    },
    {
      "cell_type": "markdown",
      "metadata": {
        "id": "eOxMIbpuRmxR"
      },
      "source": [
        "## Trainning 1"
      ]
    },
    {
      "cell_type": "code",
      "metadata": {
        "id": "TvuAyNjUQo_p"
      },
      "source": [
        "dataset = PriceDataset(time_window=60, delta_prev=15)"
      ],
      "execution_count": 385,
      "outputs": []
    },
    {
      "cell_type": "code",
      "metadata": {
        "id": "AEXhf5gBQrSX"
      },
      "source": [
        "#Hyperparameters\n",
        "batch_size=4\n",
        "learning_rate=0.0001\n",
        "input_size=dataset[0][0].shape[1]\n",
        "seq_length = dataset[0][0].shape[0]\n",
        "hidden_size=10\n",
        "num_epochs=10\n",
        "num_layers=1\n",
        "num_classes=dataset[0][1].shape[0]"
      ],
      "execution_count": 386,
      "outputs": []
    },
    {
      "cell_type": "code",
      "metadata": {
        "id": "VxNhVKLuRg9B"
      },
      "source": [
        "train_loader = DataLoader(dataset=dataset,\n",
        "                          batch_size=batch_size,\n",
        "                          shuffle=True,\n",
        "                          num_workers=2)"
      ],
      "execution_count": 387,
      "outputs": []
    },
    {
      "cell_type": "code",
      "metadata": {
        "id": "Ry_pRLhWRrU5"
      },
      "source": [
        "model = LSTMPrice1(num_classes, input_size, hidden_size, num_layers, seq_length)\n",
        "\n",
        "criterion = nn.MSELoss()\n",
        "\n",
        "optimizer = torch.optim.Adam(model.parameters(), lr=learning_rate)\n",
        "\n",
        "example_input = dataset[0][0].view(1,seq_length,1)\n",
        "#print(example_input)\n",
        "#model(example_input.float())"
      ],
      "execution_count": 388,
      "outputs": []
    },
    {
      "cell_type": "code",
      "metadata": {
        "colab": {
          "base_uri": "https://localhost:8080/"
        },
        "id": "dVFqlIYsv_jX",
        "outputId": "ba5fc544-6387-4717-8d2c-e39e4b39231e"
      },
      "source": [
        "train_loop(model, train_loader, num_epochs, criterion, optimizer)"
      ],
      "execution_count": 389,
      "outputs": [
        {
          "output_type": "stream",
          "name": "stdout",
          "text": [
            "Epoch [1/10], Loss: 0.7304602861404419\n",
            "Epoch [2/10], Loss: 1.26108717918396\n",
            "Epoch [3/10], Loss: 0.09338945895433426\n",
            "Epoch [4/10], Loss: 0.08997323364019394\n",
            "Epoch [5/10], Loss: 0.45746350288391113\n",
            "Epoch [6/10], Loss: 0.09308373928070068\n",
            "Epoch [7/10], Loss: 0.0859435424208641\n",
            "Epoch [8/10], Loss: 0.09396772086620331\n",
            "Epoch [9/10], Loss: 0.03848351165652275\n",
            "Epoch [10/10], Loss: 0.014894026331603527\n"
          ]
        }
      ]
    },
    {
      "cell_type": "code",
      "metadata": {
        "id": "Gu7iQft-cm_9",
        "colab": {
          "base_uri": "https://localhost:8080/",
          "height": 265
        },
        "outputId": "e3596b73-ffaf-4b91-d6fb-05a21695273b"
      },
      "source": [
        "with torch.no_grad():\n",
        "  prev = []\n",
        "  close = []\n",
        "  for input, output in dataset:\n",
        "    close.append(output.view(-1,).item())\n",
        "    prev.append(model(input.view(1, seq_length, 1).float()).view(-1,).item())\n",
        "  plt.plot(close, label=\"close\")\n",
        "  plt.plot(prev, label=\"prev\")"
      ],
      "execution_count": 390,
      "outputs": [
        {
          "output_type": "display_data",
          "data": {
            "image/png": "[encoded data removed]",
            "text/plain": [
              "<Figure size 432x288 with 1 Axes>"
            ]
          },
          "metadata": {
            "needs_background": "light"
          }
        }
      ]
    },
    {
      "cell_type": "markdown",
      "metadata": {
        "id": "4bA6zNujwhWW"
      },
      "source": [
        "## Trainning 2\n",
        "\n",
        "#### 60 days of data | 5 days delta prev | 10 hidden size"
      ]
    },
    {
      "cell_type": "code",
      "metadata": {
        "id": "Rxmnpd-GwhWW"
      },
      "source": [
        "dataset = PriceDataset(time_window=60, delta_prev=5)"
      ],
      "execution_count": 391,
      "outputs": []
    },
    {
      "cell_type": "code",
      "metadata": {
        "id": "ITmh-zZ1whWX"
      },
      "source": [
        "#Hyperparameters\n",
        "batch_size=4\n",
        "learning_rate=0.0001\n",
        "input_size=dataset[0][0].shape[1]\n",
        "seq_length = dataset[0][0].shape[0]\n",
        "hidden_size=10\n",
        "num_epochs=10\n",
        "num_layers=1\n",
        "num_classes=dataset[0][1].shape[0]"
      ],
      "execution_count": 392,
      "outputs": []
    },
    {
      "cell_type": "code",
      "metadata": {
        "id": "cuYfz1l_whWX"
      },
      "source": [
        "train_loader = DataLoader(dataset=dataset,\n",
        "                          batch_size=batch_size,\n",
        "                          shuffle=True,\n",
        "                          num_workers=2)"
      ],
      "execution_count": 393,
      "outputs": []
    },
    {
      "cell_type": "code",
      "metadata": {
        "id": "OrmBs5YywhWX"
      },
      "source": [
        "model = LSTMPrice1(num_classes, input_size, hidden_size, num_layers, seq_length)\n",
        "\n",
        "criterion = nn.MSELoss()\n",
        "\n",
        "optimizer = torch.optim.Adam(model.parameters(), lr=learning_rate)\n",
        "\n",
        "example_input = dataset[0][0].view(1,seq_length,1)\n",
        "#print(example_input)\n",
        "#model(example_input.float())"
      ],
      "execution_count": 394,
      "outputs": []
    },
    {
      "cell_type": "code",
      "metadata": {
        "colab": {
          "base_uri": "https://localhost:8080/"
        },
        "id": "QhmM2qmYwhWY",
        "outputId": "25781f6f-b85a-48d1-dfe5-06926d012a99"
      },
      "source": [
        "train_loop(model, train_loader, num_epochs, criterion, optimizer)"
      ],
      "execution_count": 395,
      "outputs": [
        {
          "output_type": "stream",
          "name": "stdout",
          "text": [
            "Epoch [1/10], Loss: 0.4179782271385193\n",
            "Epoch [2/10], Loss: 0.24265056848526\n",
            "Epoch [3/10], Loss: 0.05517097935080528\n",
            "Epoch [4/10], Loss: 0.052180707454681396\n",
            "Epoch [5/10], Loss: 0.2797330319881439\n",
            "Epoch [6/10], Loss: 0.1439775675535202\n",
            "Epoch [7/10], Loss: 0.23105323314666748\n",
            "Epoch [8/10], Loss: 0.05541856586933136\n",
            "Epoch [9/10], Loss: 0.05297737941145897\n",
            "Epoch [10/10], Loss: 0.009599500335752964\n"
          ]
        }
      ]
    },
    {
      "cell_type": "code",
      "metadata": {
        "colab": {
          "base_uri": "https://localhost:8080/",
          "height": 265
        },
        "id": "0DUD3sPjwhWY",
        "outputId": "1d34274a-3314-4fdb-ab40-3bfb0687f87b"
      },
      "source": [
        "with torch.no_grad():\n",
        "  prev = []\n",
        "  close = []\n",
        "  for input, output in dataset:\n",
        "    close.append(output.view(-1,).item())\n",
        "    prev.append(model(input.view(1, seq_length, 1).float()).view(-1,).item())\n",
        "  plt.plot(close, label=\"close\")\n",
        "  plt.plot(prev, label=\"prev\")"
      ],
      "execution_count": 396,
      "outputs": [
        {
          "output_type": "display_data",
          "data": {
            "image/png": "[encoded data removed]",
            "text/plain": [
              "<Figure size 432x288 with 1 Axes>"
            ]
          },
          "metadata": {
            "needs_background": "light"
          }
        }
      ]
    },
    {
      "cell_type": "markdown",
      "metadata": {
        "id": "huxJJ2jKxAjk"
      },
      "source": [
        "## Trainning 3\n",
        "\n",
        "#### 60 days of data | 1 days delta prev | 10 hidden size"
      ]
    },
    {
      "cell_type": "code",
      "metadata": {
        "id": "rQ2JwygxxAjk"
      },
      "source": [
        "dataset = PriceDataset(time_window=60, delta_prev=1)"
      ],
      "execution_count": 397,
      "outputs": []
    },
    {
      "cell_type": "code",
      "metadata": {
        "id": "t_btn15axAjl"
      },
      "source": [
        "#Hyperparameters\n",
        "batch_size=4\n",
        "learning_rate=0.0001\n",
        "input_size=dataset[0][0].shape[1]\n",
        "seq_length = dataset[0][0].shape[0]\n",
        "hidden_size=10\n",
        "num_epochs=10\n",
        "num_layers=1\n",
        "num_classes=dataset[0][1].shape[0]"
      ],
      "execution_count": 398,
      "outputs": []
    },
    {
      "cell_type": "code",
      "metadata": {
        "id": "6LlSiKmVxAjl"
      },
      "source": [
        "train_loader = DataLoader(dataset=dataset,\n",
        "                          batch_size=batch_size,\n",
        "                          shuffle=True,\n",
        "                          num_workers=2)"
      ],
      "execution_count": 399,
      "outputs": []
    },
    {
      "cell_type": "code",
      "metadata": {
        "id": "PC1dDW5uxAjl"
      },
      "source": [
        "model = LSTMPrice1(num_classes, input_size, hidden_size, num_layers, seq_length)\n",
        "\n",
        "criterion = nn.MSELoss()\n",
        "\n",
        "optimizer = torch.optim.Adam(model.parameters(), lr=learning_rate)\n",
        "\n",
        "example_input = dataset[0][0].view(1,seq_length,1)\n",
        "#print(example_input)\n",
        "#model(example_input.float())"
      ],
      "execution_count": 400,
      "outputs": []
    },
    {
      "cell_type": "code",
      "metadata": {
        "colab": {
          "base_uri": "https://localhost:8080/"
        },
        "id": "Pn_GEs-XxAjm",
        "outputId": "8c59a9e2-d685-4a99-a828-8efb25baaa84"
      },
      "source": [
        "train_loop(model, train_loader, num_epochs, criterion, optimizer)"
      ],
      "execution_count": 401,
      "outputs": [
        {
          "output_type": "stream",
          "name": "stdout",
          "text": [
            "Epoch [1/10], Loss: 0.11803258210420609\n",
            "Epoch [2/10], Loss: 0.27773165702819824\n",
            "Epoch [3/10], Loss: 0.09979823231697083\n",
            "Epoch [4/10], Loss: 0.016053101047873497\n",
            "Epoch [5/10], Loss: 0.016360731795430183\n",
            "Epoch [6/10], Loss: 0.0232721995562315\n",
            "Epoch [7/10], Loss: 0.06410840153694153\n",
            "Epoch [8/10], Loss: 0.006718247197568417\n",
            "Epoch [9/10], Loss: 0.02039187401533127\n",
            "Epoch [10/10], Loss: 0.02754291333258152\n"
          ]
        }
      ]
    },
    {
      "cell_type": "code",
      "metadata": {
        "colab": {
          "base_uri": "https://localhost:8080/",
          "height": 265
        },
        "id": "h-iYXKgoxAjm",
        "outputId": "b37b732e-e1b7-4cb1-d362-5bd9c3a17b4e"
      },
      "source": [
        "with torch.no_grad():\n",
        "  prev = []\n",
        "  close = []\n",
        "  for input, output in dataset:\n",
        "    close.append(output.view(-1,).item())\n",
        "    prev.append(model(input.view(1, seq_length, 1).float()).view(-1,).item())\n",
        "  plt.plot(close, label=\"close\")\n",
        "  plt.plot(prev, label=\"prev\")"
      ],
      "execution_count": 402,
      "outputs": [
        {
          "output_type": "display_data",
          "data": {
            "image/png": "[encoded data removed]",
            "text/plain": [
              "<Figure size 432x288 with 1 Axes>"
            ]
          },
          "metadata": {
            "needs_background": "light"
          }
        }
      ]
    },
    {
      "cell_type": "code",
      "metadata": {
        "id": "0KGVuMXr87xw",
        "outputId": "5f106978-116b-485d-ff1d-fec2bc58ed5f",
        "colab": {
          "base_uri": "https://localhost:8080/",
          "height": 282
        }
      },
      "source": [
        "dataset = PriceDataset(time_window=60, delta_prev=30)\n",
        "initial = dataset[70][0]\n",
        "correct = dataset[70][1].item()\n",
        "plt.plot(initial)\n",
        "plt.plot(90,correct, 'o')\n",
        "past_month = initial.view(1, -1, 1).float()\n",
        "prev = []\n",
        "for i in range(30):\n",
        "  next_day = model(past_month)\n",
        "  past_month = torch.cat( (past_month, next_day.view(past_month.size(0), 1, 1)), 1)[:, 1:]\n",
        "  prev.append(next_day)\n",
        "\n",
        "plt.plot(range(60,90),prev)"
      ],
      "execution_count": 403,
      "outputs": [
        {
          "output_type": "execute_result",
          "data": {
            "text/plain": [
              "[<matplotlib.lines.Line2D at 0x7ff63be9ca50>]"
            ]
          },
          "metadata": {},
          "execution_count": 403
        },
        {
          "output_type": "display_data",
          "data": {
            "image/png": "[encoded data removed]",
            "text/plain": [
              "<Figure size 432x288 with 1 Axes>"
            ]
          },
          "metadata": {
            "needs_background": "light"
          }
        }
      ]
    },
    {
      "cell_type": "markdown",
      "metadata": {
        "id": "2GQHVUP8xJZw"
      },
      "source": [
        "## Trainning 4\n",
        "\n",
        "#### 90 days of data | 5 days delta prev | 10 hidden size"
      ]
    },
    {
      "cell_type": "code",
      "metadata": {
        "id": "ThUeOhZ7xJZw"
      },
      "source": [
        "dataset = PriceDataset(time_window=90, delta_prev=5)"
      ],
      "execution_count": 404,
      "outputs": []
    },
    {
      "cell_type": "code",
      "metadata": {
        "id": "-Re9dGiAxJZw"
      },
      "source": [
        "#Hyperparameters\n",
        "batch_size=4\n",
        "learning_rate=0.0001\n",
        "input_size=dataset[0][0].shape[1]\n",
        "seq_length = dataset[0][0].shape[0]\n",
        "hidden_size=10\n",
        "num_epochs=10\n",
        "num_layers=1\n",
        "num_classes=dataset[0][1].shape[0]"
      ],
      "execution_count": 405,
      "outputs": []
    },
    {
      "cell_type": "code",
      "metadata": {
        "id": "cSbqouT_xJZw"
      },
      "source": [
        "train_loader = DataLoader(dataset=dataset,\n",
        "                          batch_size=batch_size,\n",
        "                          shuffle=True,\n",
        "                          num_workers=2)"
      ],
      "execution_count": 406,
      "outputs": []
    },
    {
      "cell_type": "code",
      "metadata": {
        "id": "o25T_rc_xJZx"
      },
      "source": [
        "model = LSTMPrice1(num_classes, input_size, hidden_size, num_layers, seq_length)\n",
        "\n",
        "criterion = nn.MSELoss()\n",
        "\n",
        "optimizer = torch.optim.Adam(model.parameters(), lr=learning_rate)\n",
        "\n",
        "example_input = dataset[0][0].view(1,seq_length,1)\n",
        "#print(example_input)\n",
        "#model(example_input.float())"
      ],
      "execution_count": 407,
      "outputs": []
    },
    {
      "cell_type": "code",
      "metadata": {
        "colab": {
          "base_uri": "https://localhost:8080/"
        },
        "id": "kgi0RLADxJZx",
        "outputId": "332fe152-6d22-45aa-c4e5-e2b4535b1ab3"
      },
      "source": [
        "train_loop(model, train_loader, num_epochs, criterion, optimizer)"
      ],
      "execution_count": 408,
      "outputs": [
        {
          "output_type": "stream",
          "name": "stdout",
          "text": [
            "Epoch [1/10], Loss: 0.13902992010116577\n",
            "Epoch [2/10], Loss: 0.020974745973944664\n",
            "Epoch [3/10], Loss: 0.02716854028403759\n",
            "Epoch [4/10], Loss: 1.4644798040390015\n",
            "Epoch [5/10], Loss: 0.04939302057027817\n",
            "Epoch [6/10], Loss: 0.05053839832544327\n",
            "Epoch [7/10], Loss: 0.011710877530276775\n",
            "Epoch [8/10], Loss: 0.016861895099282265\n",
            "Epoch [9/10], Loss: 1.05538010597229\n",
            "Epoch [10/10], Loss: 0.02640172280371189\n"
          ]
        }
      ]
    },
    {
      "cell_type": "code",
      "metadata": {
        "colab": {
          "base_uri": "https://localhost:8080/",
          "height": 265
        },
        "id": "bZwZdMbWxJZy",
        "outputId": "20f8ac7d-e0d9-4ba8-f027-9cd700cb8750"
      },
      "source": [
        "with torch.no_grad():\n",
        "  prev = []\n",
        "  close = []\n",
        "  for input, output in dataset:\n",
        "    close.append(output.view(-1,).item())\n",
        "    prev.append(model(input.view(1, seq_length, 1).float()).view(-1,).item())\n",
        "  plt.plot(close, label=\"close\")\n",
        "  plt.plot(prev, label=\"prev\")"
      ],
      "execution_count": 409,
      "outputs": [
        {
          "output_type": "display_data",
          "data": {
            "image/png": "[encoded data removed]",
            "text/plain": [
              "<Figure size 432x288 with 1 Axes>"
            ]
          },
          "metadata": {
            "needs_background": "light"
          }
        }
      ]
    },
    {
      "cell_type": "markdown",
      "metadata": {
        "id": "nlNfn97WyACD"
      },
      "source": [
        "## Modified Model"
      ]
    },
    {
      "cell_type": "code",
      "metadata": {
        "id": "qYcW9jQ7yDUV"
      },
      "source": [
        "class LSTMPrice2(nn.Module):\n",
        "\n",
        "  def __init__(self, num_classes, input_size, hidden_size, num_layers, seq_length):\n",
        "    super(LSTMPrice2, self).__init__()\n",
        "    self.num_classes = num_classes\n",
        "    self.input_size = input_size\n",
        "    self.hidden_size = hidden_size\n",
        "    self.num_layers = num_layers\n",
        "    self.seq_length = seq_length\n",
        "\n",
        "    self.lstm = nn.LSTM(input_size=input_size, hidden_size=hidden_size, num_layers=num_layers, batch_first=True)\n",
        "    self.fc_1 = nn.Linear(hidden_size, 64)\n",
        "    self.fc_2 = nn.Linear(64, num_classes)\n",
        "\n",
        "  def forward(self, x):\n",
        "    for i in range(self.seq_length):\n",
        "      h_0 = torch.zeros(self.num_layers, x.size(0), self.hidden_size) #hidden state\n",
        "      c_0 = torch.zeros(self.num_layers, x.size(0), self.hidden_size) #internal state\n",
        "      # Propagate input through LSTM\n",
        "      output, (hn, cn) = self.lstm(x, (h_0, c_0)) #lstm with input, hidden, and internal state\n",
        "      #out = torch.reshape(output, (output.size(0), -1))\n",
        "      hn = hn.view(-1, self.hidden_size) #reshaping the data for Dense layer next\n",
        "      out = F.relu(hn)\n",
        "      out = F.relu(self.fc_1(out)) #first Dense\n",
        "      out = self.fc_2(out) #Final Output\n",
        "\n",
        "\n",
        "      #Output with sigmoid\n",
        "      #out = torch.sigmoid(out)\n",
        "      \n",
        "      x = torch.cat( (x,out.view(x.size(0), 1, 1)), 1)[:, 1:]\n",
        "\n",
        "    return out      \n"
      ],
      "execution_count": 410,
      "outputs": []
    },
    {
      "cell_type": "markdown",
      "metadata": {
        "id": "fmhLVzCJ1ENn"
      },
      "source": [
        "## Trainning 1"
      ]
    },
    {
      "cell_type": "code",
      "metadata": {
        "id": "KxO0sPl_1EN8"
      },
      "source": [
        "delta_prev=15\n",
        "dataset = PriceDataset(time_window=60, delta_prev=delta_prev)"
      ],
      "execution_count": 411,
      "outputs": []
    },
    {
      "cell_type": "code",
      "metadata": {
        "id": "7hkR9de51EN8"
      },
      "source": [
        "#Hyperparameters\n",
        "batch_size=4\n",
        "learning_rate=0.0001\n",
        "input_size=dataset[0][0].shape[1]\n",
        "seq_length = dataset[0][0].shape[0]\n",
        "hidden_size=10\n",
        "num_epochs=10\n",
        "num_layers=1\n",
        "num_classes=dataset[0][1].shape[0]"
      ],
      "execution_count": 412,
      "outputs": []
    },
    {
      "cell_type": "code",
      "metadata": {
        "id": "yMxqdcJ31EN9"
      },
      "source": [
        "train_loader = DataLoader(dataset=dataset,\n",
        "                          batch_size=batch_size,\n",
        "                          shuffle=True,\n",
        "                          num_workers=2)"
      ],
      "execution_count": 413,
      "outputs": []
    },
    {
      "cell_type": "code",
      "metadata": {
        "id": "QhTuvNY91EN9"
      },
      "source": [
        "model = LSTMPrice2(num_classes, input_size, hidden_size, num_layers, seq_length=delta_prev)\n",
        "\n",
        "criterion = nn.MSELoss()\n",
        "\n",
        "optimizer = torch.optim.Adam(model.parameters(), lr=learning_rate)\n",
        "\n",
        "example_input = dataset[0][0].view(1,seq_length,1)\n",
        "#print(example_input)\n",
        "#model(example_input.float())"
      ],
      "execution_count": 414,
      "outputs": []
    },
    {
      "cell_type": "code",
      "metadata": {
        "colab": {
          "base_uri": "https://localhost:8080/"
        },
        "id": "pJXYtPUJ1EN9",
        "outputId": "eb99e194-b6a8-421f-d9bb-c3fde613ac79"
      },
      "source": [
        "train_loop(model, train_loader, num_epochs, criterion, optimizer)"
      ],
      "execution_count": 415,
      "outputs": [
        {
          "output_type": "stream",
          "name": "stdout",
          "text": [
            "Epoch [1/10], Loss: 0.07071970403194427\n",
            "Epoch [2/10], Loss: 0.20310360193252563\n",
            "Epoch [3/10], Loss: 0.17660516500473022\n",
            "Epoch [4/10], Loss: 0.32605329155921936\n",
            "Epoch [5/10], Loss: 0.48376625776290894\n",
            "Epoch [6/10], Loss: 0.07301172614097595\n",
            "Epoch [7/10], Loss: 0.10502579808235168\n",
            "Epoch [8/10], Loss: 0.2148156315088272\n",
            "Epoch [9/10], Loss: 0.09957566857337952\n",
            "Epoch [10/10], Loss: 0.6257641911506653\n"
          ]
        }
      ]
    },
    {
      "cell_type": "code",
      "metadata": {
        "colab": {
          "base_uri": "https://localhost:8080/",
          "height": 265
        },
        "id": "w8eGd2dS1EN-",
        "outputId": "f705b3fb-f3d8-4b70-e932-4ef9b5156396"
      },
      "source": [
        "with torch.no_grad():\n",
        "  prev = []\n",
        "  close = []\n",
        "  for input, output in dataset:\n",
        "    close.append(output.view(-1,).item())\n",
        "    prev.append(model(input.view(1, seq_length, 1).float()).view(-1,).item())\n",
        "  plt.plot(close, label=\"close\")\n",
        "  plt.plot(prev, label=\"prev\")"
      ],
      "execution_count": 416,
      "outputs": [
        {
          "output_type": "display_data",
          "data": {
            "image/png": "[encoded data removed]",
            "text/plain": [
              "<Figure size 432x288 with 1 Axes>"
            ]
          },
          "metadata": {
            "needs_background": "light"
          }
        }
      ]
    },
    {
      "cell_type": "markdown",
      "metadata": {
        "id": "xQ4K3aPu1EN-"
      },
      "source": [
        "## Trainning 2\n",
        "\n",
        "#### 60 days of data | 5 days delta prev | 10 hidden size"
      ]
    },
    {
      "cell_type": "code",
      "metadata": {
        "id": "jM2K4zil1EN-"
      },
      "source": [
        "delta_prev=5\n",
        "dataset = PriceDataset(time_window=60, delta_prev=delta_prev)"
      ],
      "execution_count": 417,
      "outputs": []
    },
    {
      "cell_type": "code",
      "metadata": {
        "id": "-2A8EX4h1EN_"
      },
      "source": [
        "#Hyperparameters\n",
        "batch_size=4\n",
        "learning_rate=0.0001\n",
        "input_size=dataset[0][0].shape[1]\n",
        "seq_length = dataset[0][0].shape[0]\n",
        "hidden_size=10\n",
        "num_epochs=10\n",
        "num_layers=1\n",
        "num_classes=dataset[0][1].shape[0]"
      ],
      "execution_count": 418,
      "outputs": []
    },
    {
      "cell_type": "code",
      "metadata": {
        "id": "lIStw0kZ1EN_"
      },
      "source": [
        "train_loader = DataLoader(dataset=dataset,\n",
        "                          batch_size=batch_size,\n",
        "                          shuffle=True,\n",
        "                          num_workers=2)"
      ],
      "execution_count": 419,
      "outputs": []
    },
    {
      "cell_type": "code",
      "metadata": {
        "id": "GpbJT92m1EN_"
      },
      "source": [
        "model = LSTMPrice2(num_classes, input_size, hidden_size, num_layers, seq_length=delta_prev)\n",
        "\n",
        "criterion = nn.MSELoss()\n",
        "\n",
        "optimizer = torch.optim.Adam(model.parameters(), lr=learning_rate)\n",
        "\n",
        "example_input = dataset[0][0].view(1,seq_length,1)\n",
        "#print(example_input)\n",
        "#model(example_input.float())"
      ],
      "execution_count": 420,
      "outputs": []
    },
    {
      "cell_type": "code",
      "metadata": {
        "colab": {
          "base_uri": "https://localhost:8080/"
        },
        "id": "tqouauDk1EOC",
        "outputId": "8834ed52-f862-484b-c1ba-2b8c6d66069c"
      },
      "source": [
        "train_loop(model, train_loader, num_epochs, criterion, optimizer)"
      ],
      "execution_count": 421,
      "outputs": [
        {
          "output_type": "stream",
          "name": "stdout",
          "text": [
            "Epoch [1/10], Loss: 0.14442285895347595\n",
            "Epoch [2/10], Loss: 0.13579963147640228\n",
            "Epoch [3/10], Loss: 0.11268071085214615\n",
            "Epoch [4/10], Loss: 0.12104210257530212\n",
            "Epoch [5/10], Loss: 0.07211177051067352\n",
            "Epoch [6/10], Loss: 0.012282713316380978\n",
            "Epoch [7/10], Loss: 0.015004079788923264\n",
            "Epoch [8/10], Loss: 0.023055927827954292\n",
            "Epoch [9/10], Loss: 0.11578309535980225\n",
            "Epoch [10/10], Loss: 0.08121393620967865\n"
          ]
        }
      ]
    },
    {
      "cell_type": "code",
      "metadata": {
        "colab": {
          "base_uri": "https://localhost:8080/",
          "height": 265
        },
        "id": "Wj5MyecK1EOC",
        "outputId": "c78cedb9-6a7a-4ac6-9575-536015c8353e"
      },
      "source": [
        "with torch.no_grad():\n",
        "  prev = []\n",
        "  close = []\n",
        "  for input, output in dataset:\n",
        "    close.append(output.view(-1,).item())\n",
        "    prev.append(model(input.view(1, seq_length, 1).float()).view(-1,).item())\n",
        "  plt.plot(close, label=\"close\")\n",
        "  plt.plot(prev, label=\"prev\")"
      ],
      "execution_count": 422,
      "outputs": [
        {
          "output_type": "display_data",
          "data": {
            "image/png": "[encoded data removed]",
            "text/plain": [
              "<Figure size 432x288 with 1 Axes>"
            ]
          },
          "metadata": {
            "needs_background": "light"
          }
        }
      ]
    },
    {
      "cell_type": "markdown",
      "metadata": {
        "id": "dFM4BgCW1EOD"
      },
      "source": [
        "## Trainning 3\n",
        "\n",
        "#### 60 days of data | 1 days delta prev | 10 hidden size"
      ]
    },
    {
      "cell_type": "code",
      "metadata": {
        "id": "D1-v0p141EOD"
      },
      "source": [
        "dataset = PriceDataset(time_window=60, delta_prev=1)"
      ],
      "execution_count": 423,
      "outputs": []
    },
    {
      "cell_type": "code",
      "metadata": {
        "id": "WJB7V1Ra1EOD"
      },
      "source": [
        "#Hyperparameters\n",
        "batch_size=4\n",
        "learning_rate=0.0001\n",
        "input_size=dataset[0][0].shape[1]\n",
        "seq_length = dataset[0][0].shape[0]\n",
        "hidden_size=10\n",
        "num_epochs=10\n",
        "num_layers=1\n",
        "num_classes=dataset[0][1].shape[0]"
      ],
      "execution_count": 424,
      "outputs": []
    },
    {
      "cell_type": "code",
      "metadata": {
        "id": "yfexIhAJ1EOD"
      },
      "source": [
        "train_loader = DataLoader(dataset=dataset,\n",
        "                          batch_size=batch_size,\n",
        "                          shuffle=True,\n",
        "                          num_workers=2)"
      ],
      "execution_count": 425,
      "outputs": []
    },
    {
      "cell_type": "code",
      "metadata": {
        "id": "aIsw5fj01EOE"
      },
      "source": [
        "model = LSTMPrice1(num_classes, input_size, hidden_size, num_layers, seq_length=1)\n",
        "\n",
        "criterion = nn.MSELoss()\n",
        "\n",
        "optimizer = torch.optim.Adam(model.parameters(), lr=learning_rate)\n",
        "\n",
        "example_input = dataset[0][0].view(1,seq_length,1)\n",
        "#print(example_input)\n",
        "#model(example_input.float())"
      ],
      "execution_count": 426,
      "outputs": []
    },
    {
      "cell_type": "code",
      "metadata": {
        "colab": {
          "base_uri": "https://localhost:8080/"
        },
        "id": "B27eEiPb1EOE",
        "outputId": "837d4da7-43ee-4905-bd9e-4bd84f7bd742"
      },
      "source": [
        "train_loop(model, train_loader, num_epochs, criterion, optimizer)"
      ],
      "execution_count": 427,
      "outputs": [
        {
          "output_type": "stream",
          "name": "stdout",
          "text": [
            "Epoch [1/10], Loss: 0.02947615459561348\n",
            "Epoch [2/10], Loss: 0.09830450266599655\n",
            "Epoch [3/10], Loss: 0.07175467163324356\n",
            "Epoch [4/10], Loss: 0.12205953896045685\n",
            "Epoch [5/10], Loss: 0.016788262873888016\n",
            "Epoch [6/10], Loss: 0.02162931114435196\n",
            "Epoch [7/10], Loss: 0.003755914978682995\n",
            "Epoch [8/10], Loss: 0.07171241194009781\n",
            "Epoch [9/10], Loss: 0.011646374128758907\n",
            "Epoch [10/10], Loss: 0.0033610030077397823\n"
          ]
        }
      ]
    },
    {
      "cell_type": "code",
      "metadata": {
        "colab": {
          "base_uri": "https://localhost:8080/",
          "height": 265
        },
        "id": "YR6uQ7vS1EOE",
        "outputId": "d552525f-6e0c-4342-b4b5-90b29401c6cf"
      },
      "source": [
        "with torch.no_grad():\n",
        "  prev = []\n",
        "  close = []\n",
        "  for input, output in dataset:\n",
        "    close.append(output.view(-1,).item())\n",
        "    prev.append(model(input.view(1, seq_length, 1).float()).view(-1,).item())\n",
        "  plt.plot(close, label=\"close\")\n",
        "  plt.plot(prev, label=\"prev\")"
      ],
      "execution_count": 428,
      "outputs": [
        {
          "output_type": "display_data",
          "data": {
            "image/png": "[encoded data removed]",
            "text/plain": [
              "<Figure size 432x288 with 1 Axes>"
            ]
          },
          "metadata": {
            "needs_background": "light"
          }
        }
      ]
    },
    {
      "cell_type": "code",
      "metadata": {
        "id": "AFdbds9BCdIG",
        "outputId": "3d18ac0a-8553-422f-a25f-4d6e6d406884",
        "colab": {
          "base_uri": "https://localhost:8080/",
          "height": 282
        }
      },
      "source": [
        "dataset = PriceDataset(time_window=60, delta_prev=30)\n",
        "initial = dataset[50][0]\n",
        "correct = dataset[50][1].item()\n",
        "plt.plot(initial)\n",
        "plt.plot(90,correct, 'o')\n",
        "past_month = initial.view(1, -1, 1).float()\n",
        "prev = []\n",
        "for i in range(30):\n",
        "  next_day = model(past_month)\n",
        "  past_month = torch.cat( (past_month, next_day.view(past_month.size(0), 1, 1)), 1)[:, 1:]\n",
        "  prev.append(next_day)\n",
        "\n",
        "plt.plot(range(60,90),prev)"
      ],
      "execution_count": 434,
      "outputs": [
        {
          "output_type": "execute_result",
          "data": {
            "text/plain": [
              "[<matplotlib.lines.Line2D at 0x7ff63c19b090>]"
            ]
          },
          "metadata": {},
          "execution_count": 434
        },
        {
          "output_type": "display_data",
          "data": {
            "image/png": "[encoded data removed]",
            "text/plain": [
              "<Figure size 432x288 with 1 Axes>"
            ]
          },
          "metadata": {
            "needs_background": "light"
          }
        }
      ]
    },
    {
      "cell_type": "markdown",
      "metadata": {
        "id": "XIsw3qZE1EOE"
      },
      "source": [
        "## Trainning 4\n",
        "\n",
        "#### 90 days of data | 5 days delta prev | 10 hidden size"
      ]
    },
    {
      "cell_type": "code",
      "metadata": {
        "id": "nmG8kKxR1EOF"
      },
      "source": [
        "delta_prev=5\n",
        "dataset = PriceDataset(time_window=90, delta_prev=delta_prev)"
      ],
      "execution_count": 310,
      "outputs": []
    },
    {
      "cell_type": "code",
      "metadata": {
        "id": "c7pdSp9d1EOF"
      },
      "source": [
        "#Hyperparameters\n",
        "batch_size=4\n",
        "learning_rate=0.0001\n",
        "input_size=dataset[0][0].shape[1]\n",
        "seq_length = dataset[0][0].shape[0]\n",
        "hidden_size=10\n",
        "num_epochs=10\n",
        "num_layers=1\n",
        "num_classes=dataset[0][1].shape[0]"
      ],
      "execution_count": 311,
      "outputs": []
    },
    {
      "cell_type": "code",
      "metadata": {
        "id": "l6f7Bc-j1EOF"
      },
      "source": [
        "train_loader = DataLoader(dataset=dataset,\n",
        "                          batch_size=batch_size,\n",
        "                          shuffle=True,\n",
        "                          num_workers=2)"
      ],
      "execution_count": 312,
      "outputs": []
    },
    {
      "cell_type": "code",
      "metadata": {
        "id": "mHZscKse1EOF"
      },
      "source": [
        "model = LSTMPrice2(num_classes, input_size, hidden_size, num_layers, seq_length=delta_prev)\n",
        "\n",
        "criterion = nn.MSELoss()\n",
        "\n",
        "optimizer = torch.optim.Adam(model.parameters(), lr=learning_rate)\n",
        "\n",
        "example_input = dataset[0][0].view(1,seq_length,1)\n",
        "#print(example_input)\n",
        "#model(example_input.float())"
      ],
      "execution_count": 313,
      "outputs": []
    },
    {
      "cell_type": "code",
      "metadata": {
        "colab": {
          "base_uri": "https://localhost:8080/"
        },
        "id": "alOCtmbw1EOF",
        "outputId": "1310d7fb-6c6c-4bbb-d981-5bf11ea1680a"
      },
      "source": [
        "train_loop(model, train_loader, num_epochs, criterion, optimizer)"
      ],
      "execution_count": 314,
      "outputs": [
        {
          "output_type": "stream",
          "name": "stdout",
          "text": [
            "Epoch [1/10], Loss: 0.2381274402141571\n",
            "Epoch [2/10], Loss: 0.07060571759939194\n",
            "Epoch [3/10], Loss: 0.07708024978637695\n",
            "Epoch [4/10], Loss: 0.006979550234973431\n",
            "Epoch [5/10], Loss: 0.05107253044843674\n",
            "Epoch [6/10], Loss: 0.05459846183657646\n",
            "Epoch [7/10], Loss: 0.020827392116189003\n",
            "Epoch [8/10], Loss: 0.10505160689353943\n",
            "Epoch [9/10], Loss: 0.060645099729299545\n",
            "Epoch [10/10], Loss: 0.12035351991653442\n"
          ]
        }
      ]
    },
    {
      "cell_type": "code",
      "metadata": {
        "colab": {
          "base_uri": "https://localhost:8080/",
          "height": 265
        },
        "id": "TjN2oDc51EOG",
        "outputId": "3c2dfaa7-5a59-43de-f496-c51885ec06c5"
      },
      "source": [
        "with torch.no_grad():\n",
        "  prev = []\n",
        "  close = []\n",
        "  for input, output in dataset:\n",
        "    close.append(output.view(-1,).item())\n",
        "    prev.append(model(input.view(1, seq_length, 1).float()).view(-1,).item())\n",
        "  plt.plot(close, label=\"close\")\n",
        "  plt.plot(prev, label=\"prev\")"
      ],
      "execution_count": 315,
      "outputs": [
        {
          "output_type": "display_data",
          "data": {
            "image/png": "[encoded data removed]",
            "text/plain": [
              "<Figure size 432x288 with 1 Axes>"
            ]
          },
          "metadata": {
            "needs_background": "light"
          }
        }
      ]
    },
    {
      "cell_type": "markdown",
      "metadata": {
        "id": "EEi9bfAADBBO"
      },
      "source": [
        "## Model 3"
      ]
    },
    {
      "cell_type": "code",
      "metadata": {
        "id": "txvRn2aKDBBP"
      },
      "source": [
        "class LSTMPrice3(nn.Module):\n",
        "\n",
        "  def __init__(self, num_classes, input_size, hidden_size, num_layers, seq_length):\n",
        "    super(LSTMPrice3, self).__init__()\n",
        "    self.num_classes = num_classes\n",
        "    self.input_size = input_size\n",
        "    self.hidden_size = hidden_size\n",
        "    self.num_layers = num_layers\n",
        "    self.seq_length = seq_length\n",
        "\n",
        "    self.lstm = nn.LSTM(input_size=input_size, hidden_size=hidden_size, num_layers=num_layers, batch_first=True)\n",
        "    self.fc_1 = nn.Linear(hidden_size*seq_length, 64)\n",
        "    self.fc_2 = nn.Linear(64, num_classes)\n",
        "\n",
        "  def forward(self, x):\n",
        "    #for i in range(self.seq_length):\n",
        "    h_0 = torch.zeros(self.num_layers, x.size(0), self.hidden_size) #hidden state\n",
        "    c_0 = torch.zeros(self.num_layers, x.size(0), self.hidden_size) #internal state\n",
        "    # Propagate input through LSTM\n",
        "    output, (hn, cn) = self.lstm(x, (h_0, c_0)) #lstm with input, hidden, and internal state\n",
        "    out = torch.reshape(output, (output.size(0), -1))\n",
        "    #hn = hn.view(-1, self.hidden_size) #reshaping the data for Dense layer next\n",
        "    out = F.relu(out)\n",
        "    out = F.relu(self.fc_1(out)) #first Dense\n",
        "    out = self.fc_2(out) #Final Output\n",
        "\n",
        "\n",
        "    #Output with sigmoid\n",
        "    #out = torch.sigmoid(out)\n",
        "      \n",
        "      #x = torch.cat( (x,out.view(x.size(0), 1, 1)), 1)[:, 1:]\n",
        "\n",
        "    return out      \n"
      ],
      "execution_count": 429,
      "outputs": []
    }
  ]
}